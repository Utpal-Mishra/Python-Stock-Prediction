{
  "nbformat": 4,
  "nbformat_minor": 0,
  "metadata": {
    "colab": {
      "name": "EdurekaStockPricePrediction.ipynb",
      "provenance": [],
      "collapsed_sections": [
        "eW47B8HjVkaS",
        "yv-Xei_x4PBR",
        "bhKzBpzuVq-M",
        "nTebV4JHVuI9",
        "x1WKS_XMVxER",
        "jyBcfsm0V332",
        "GpLV0zcdWBii",
        "9J2O5BeHWEqH",
        "3DknUXc-WLeY",
        "is0uWU1CWT0G",
        "IPfyqSrRWhmG",
        "XjHhZACMWpax",
        "5uwG9B3KW4zM",
        "0E7MRnCXW892",
        "2pMj0IKfXBv0",
        "V7EbJLJpXHnd",
        "YLDWdVjQXSQC",
        "LUkwWwT3XvMs",
        "1iFvK8QxYA1k",
        "d3xnIkb3YE8v",
        "BVMxqMjXYIP3",
        "bp64zldsYMKq",
        "fshoQu9XYhu0",
        "rAPiQy4iYo53",
        "CNTsG4-1Y2n9",
        "WOqOpuPsY5UW"
      ],
      "authorship_tag": "ABX9TyO7d2d32m5D+gr0KJ226NZO",
      "include_colab_link": true
    },
    "kernelspec": {
      "name": "python3",
      "display_name": "Python 3"
    }
  },
  "cells": [
    {
      "cell_type": "markdown",
      "metadata": {
        "id": "view-in-github",
        "colab_type": "text"
      },
      "source": [
        "<a href=\"https://colab.research.google.com/github/Utpal-Mishra/Python-Stock-Prediction/blob/main/EdurekaStockPricePrediction.ipynb\" target=\"_parent\"><img src=\"https://colab.research.google.com/assets/colab-badge.svg\" alt=\"Open In Colab\"/></a>"
      ]
    },
    {
      "cell_type": "markdown",
      "metadata": {
        "id": "eW47B8HjVkaS"
      },
      "source": [
        "###Installation"
      ]
    },
    {
      "cell_type": "code",
      "metadata": {
        "id": "uT4D8JQoHGof",
        "colab": {
          "base_uri": "https://localhost:8080/",
          "height": 349
        },
        "outputId": "94683c0a-e166-4c30-afeb-866e3d30447c"
      },
      "source": [
        "!pip install tpot"
      ],
      "execution_count": null,
      "outputs": [
        {
          "output_type": "stream",
          "text": [
            "Requirement already satisfied: tpot in /usr/local/lib/python3.6/dist-packages (0.11.5)\n",
            "Requirement already satisfied: deap>=1.2 in /usr/local/lib/python3.6/dist-packages (from tpot) (1.3.1)\n",
            "Requirement already satisfied: update-checker>=0.16 in /usr/local/lib/python3.6/dist-packages (from tpot) (0.18.0)\n",
            "Requirement already satisfied: numpy>=1.16.3 in /usr/local/lib/python3.6/dist-packages (from tpot) (1.18.5)\n",
            "Requirement already satisfied: pandas>=0.24.2 in /usr/local/lib/python3.6/dist-packages (from tpot) (1.0.5)\n",
            "Requirement already satisfied: scikit-learn>=0.22.0 in /usr/local/lib/python3.6/dist-packages (from tpot) (0.22.2.post1)\n",
            "Requirement already satisfied: stopit>=1.1.1 in /usr/local/lib/python3.6/dist-packages (from tpot) (1.1.2)\n",
            "Requirement already satisfied: tqdm>=4.36.1 in /usr/local/lib/python3.6/dist-packages (from tpot) (4.41.1)\n",
            "Requirement already satisfied: joblib>=0.13.2 in /usr/local/lib/python3.6/dist-packages (from tpot) (0.16.0)\n",
            "Requirement already satisfied: scipy>=1.3.1 in /usr/local/lib/python3.6/dist-packages (from tpot) (1.4.1)\n",
            "Requirement already satisfied: requests>=2.3.0 in /usr/local/lib/python3.6/dist-packages (from update-checker>=0.16->tpot) (2.23.0)\n",
            "Requirement already satisfied: python-dateutil>=2.6.1 in /usr/local/lib/python3.6/dist-packages (from pandas>=0.24.2->tpot) (2.8.1)\n",
            "Requirement already satisfied: pytz>=2017.2 in /usr/local/lib/python3.6/dist-packages (from pandas>=0.24.2->tpot) (2018.9)\n",
            "Requirement already satisfied: urllib3!=1.25.0,!=1.25.1,<1.26,>=1.21.1 in /usr/local/lib/python3.6/dist-packages (from requests>=2.3.0->update-checker>=0.16->tpot) (1.24.3)\n",
            "Requirement already satisfied: certifi>=2017.4.17 in /usr/local/lib/python3.6/dist-packages (from requests>=2.3.0->update-checker>=0.16->tpot) (2020.6.20)\n",
            "Requirement already satisfied: chardet<4,>=3.0.2 in /usr/local/lib/python3.6/dist-packages (from requests>=2.3.0->update-checker>=0.16->tpot) (3.0.4)\n",
            "Requirement already satisfied: idna<3,>=2.5 in /usr/local/lib/python3.6/dist-packages (from requests>=2.3.0->update-checker>=0.16->tpot) (2.10)\n",
            "Requirement already satisfied: six>=1.5 in /usr/local/lib/python3.6/dist-packages (from python-dateutil>=2.6.1->pandas>=0.24.2->tpot) (1.15.0)\n"
          ],
          "name": "stdout"
        }
      ]
    },
    {
      "cell_type": "markdown",
      "metadata": {
        "id": "6h-hrY2c3tbA"
      },
      "source": [
        "### YOUTUBE VIDEO"
      ]
    },
    {
      "cell_type": "markdown",
      "metadata": {
        "id": "-rxhf7jO1SmD"
      },
      "source": [
        "from IPython.display import HTML\n",
        "HTML('<iframe width=\"560\" height=\"315\" src=\"https://www.youtube.com/watch?v=QIUxPv5PJOY\" frameborder=\"0\" allow=\"accelerometer; autoplay; encrypted-media; gyroscope; picture-in-picture\" allowfullscreen></iframe>')"
      ]
    },
    {
      "cell_type": "markdown",
      "metadata": {
        "id": "yv-Xei_x4PBR"
      },
      "source": [
        "# STOCK PRICE PREDICTION"
      ]
    },
    {
      "cell_type": "markdown",
      "metadata": {
        "id": "LihR5YULIHVw"
      },
      "source": [
        "> Artificial Recurrent Neural Network"
      ]
    },
    {
      "cell_type": "markdown",
      "metadata": {
        "id": "1JVp23p3INnH"
      },
      "source": [
        "> Long Short Term Memory"
      ]
    },
    {
      "cell_type": "markdown",
      "metadata": {
        "id": "bhKzBpzuVq-M"
      },
      "source": [
        "###Packages"
      ]
    },
    {
      "cell_type": "code",
      "metadata": {
        "id": "IzjiyGDo34Fu",
        "colab": {
          "base_uri": "https://localhost:8080/",
          "height": 72
        },
        "outputId": "b14baf2c-77d0-4633-aa79-f68512341265"
      },
      "source": [
        "import math\n",
        "import numpy as np\n",
        "import pandas as pd\n",
        "import pandas_datareader as web\n",
        "from sklearn.preprocessing import MinMaxScaler\n",
        "from keras.models import Sequential\n",
        "from keras.layers import Dense, LSTM\n",
        "import matplotlib.pyplot as plt\n",
        "plt.style.use('fivethirtyeight')"
      ],
      "execution_count": null,
      "outputs": [
        {
          "output_type": "stream",
          "text": [
            "/usr/local/lib/python3.6/dist-packages/pandas_datareader/compat/__init__.py:7: FutureWarning: pandas.util.testing is deprecated. Use the functions in the public API at pandas.testing instead.\n",
            "  from pandas.util.testing import assert_frame_equal\n"
          ],
          "name": "stderr"
        }
      ]
    },
    {
      "cell_type": "markdown",
      "metadata": {
        "id": "nTebV4JHVuI9"
      },
      "source": [
        "###Reading File"
      ]
    },
    {
      "cell_type": "code",
      "metadata": {
        "id": "8VKGh8XWGSPI",
        "colab": {
          "base_uri": "https://localhost:8080/",
          "height": 219
        },
        "outputId": "d4a72f55-8a5a-49c4-fc64-17850e11a9e1"
      },
      "source": [
        "data = web.Reader('AAPL', data_source = 'yahoo', start = '2012-01-01', end = '2019-12-17').reset_index()\n",
        "print(data.shape)\n",
        "data.head()"
      ],
      "execution_count": null,
      "outputs": [
        {
          "output_type": "stream",
          "text": [
            "(2003, 7)\n"
          ],
          "name": "stdout"
        },
        {
          "output_type": "execute_result",
          "data": {
            "text/html": [
              "<div>\n",
              "<style scoped>\n",
              "    .dataframe tbody tr th:only-of-type {\n",
              "        vertical-align: middle;\n",
              "    }\n",
              "\n",
              "    .dataframe tbody tr th {\n",
              "        vertical-align: top;\n",
              "    }\n",
              "\n",
              "    .dataframe thead th {\n",
              "        text-align: right;\n",
              "    }\n",
              "</style>\n",
              "<table border=\"1\" class=\"dataframe\">\n",
              "  <thead>\n",
              "    <tr style=\"text-align: right;\">\n",
              "      <th></th>\n",
              "      <th>Date</th>\n",
              "      <th>High</th>\n",
              "      <th>Low</th>\n",
              "      <th>Open</th>\n",
              "      <th>Close</th>\n",
              "      <th>Volume</th>\n",
              "      <th>Adj Close</th>\n",
              "    </tr>\n",
              "  </thead>\n",
              "  <tbody>\n",
              "    <tr>\n",
              "      <th>0</th>\n",
              "      <td>2012-01-03</td>\n",
              "      <td>58.928570</td>\n",
              "      <td>58.428570</td>\n",
              "      <td>58.485714</td>\n",
              "      <td>58.747143</td>\n",
              "      <td>75555200.0</td>\n",
              "      <td>50.765709</td>\n",
              "    </tr>\n",
              "    <tr>\n",
              "      <th>1</th>\n",
              "      <td>2012-01-04</td>\n",
              "      <td>59.240002</td>\n",
              "      <td>58.468571</td>\n",
              "      <td>58.571430</td>\n",
              "      <td>59.062859</td>\n",
              "      <td>65005500.0</td>\n",
              "      <td>51.038536</td>\n",
              "    </tr>\n",
              "    <tr>\n",
              "      <th>2</th>\n",
              "      <td>2012-01-05</td>\n",
              "      <td>59.792858</td>\n",
              "      <td>58.952858</td>\n",
              "      <td>59.278572</td>\n",
              "      <td>59.718571</td>\n",
              "      <td>67817400.0</td>\n",
              "      <td>51.605175</td>\n",
              "    </tr>\n",
              "    <tr>\n",
              "      <th>3</th>\n",
              "      <td>2012-01-06</td>\n",
              "      <td>60.392857</td>\n",
              "      <td>59.888573</td>\n",
              "      <td>59.967144</td>\n",
              "      <td>60.342857</td>\n",
              "      <td>79573200.0</td>\n",
              "      <td>52.144630</td>\n",
              "    </tr>\n",
              "    <tr>\n",
              "      <th>4</th>\n",
              "      <td>2012-01-09</td>\n",
              "      <td>61.107143</td>\n",
              "      <td>60.192856</td>\n",
              "      <td>60.785713</td>\n",
              "      <td>60.247143</td>\n",
              "      <td>98506100.0</td>\n",
              "      <td>52.061932</td>\n",
              "    </tr>\n",
              "  </tbody>\n",
              "</table>\n",
              "</div>"
            ],
            "text/plain": [
              "        Date       High        Low       Open      Close      Volume  Adj Close\n",
              "0 2012-01-03  58.928570  58.428570  58.485714  58.747143  75555200.0  50.765709\n",
              "1 2012-01-04  59.240002  58.468571  58.571430  59.062859  65005500.0  51.038536\n",
              "2 2012-01-05  59.792858  58.952858  59.278572  59.718571  67817400.0  51.605175\n",
              "3 2012-01-06  60.392857  59.888573  59.967144  60.342857  79573200.0  52.144630\n",
              "4 2012-01-09  61.107143  60.192856  60.785713  60.247143  98506100.0  52.061932"
            ]
          },
          "metadata": {
            "tags": []
          },
          "execution_count": 5
        }
      ]
    },
    {
      "cell_type": "markdown",
      "metadata": {
        "id": "x1WKS_XMVxER"
      },
      "source": [
        "###Data Details"
      ]
    },
    {
      "cell_type": "code",
      "metadata": {
        "id": "iPtMHGbQ1qRT",
        "colab": {
          "base_uri": "https://localhost:8080/",
          "height": 294
        },
        "outputId": "ba201cc2-71fd-4395-8b7d-8876fe10ed28"
      },
      "source": [
        "train.describe()"
      ],
      "execution_count": null,
      "outputs": [
        {
          "output_type": "execute_result",
          "data": {
            "text/html": [
              "<div>\n",
              "<style scoped>\n",
              "    .dataframe tbody tr th:only-of-type {\n",
              "        vertical-align: middle;\n",
              "    }\n",
              "\n",
              "    .dataframe tbody tr th {\n",
              "        vertical-align: top;\n",
              "    }\n",
              "\n",
              "    .dataframe thead th {\n",
              "        text-align: right;\n",
              "    }\n",
              "</style>\n",
              "<table border=\"1\" class=\"dataframe\">\n",
              "  <thead>\n",
              "    <tr style=\"text-align: right;\">\n",
              "      <th></th>\n",
              "      <th>High</th>\n",
              "      <th>Low</th>\n",
              "      <th>Open</th>\n",
              "      <th>Close</th>\n",
              "      <th>Volume</th>\n",
              "      <th>Adj Close</th>\n",
              "    </tr>\n",
              "  </thead>\n",
              "  <tbody>\n",
              "    <tr>\n",
              "      <th>count</th>\n",
              "      <td>2003.000000</td>\n",
              "      <td>2003.000000</td>\n",
              "      <td>2003.000000</td>\n",
              "      <td>2003.000000</td>\n",
              "      <td>2.003000e+03</td>\n",
              "      <td>2003.000000</td>\n",
              "    </tr>\n",
              "    <tr>\n",
              "      <th>mean</th>\n",
              "      <td>127.194100</td>\n",
              "      <td>124.954538</td>\n",
              "      <td>126.079166</td>\n",
              "      <td>126.109797</td>\n",
              "      <td>5.960691e+07</td>\n",
              "      <td>118.853006</td>\n",
              "    </tr>\n",
              "    <tr>\n",
              "      <th>std</th>\n",
              "      <td>50.028310</td>\n",
              "      <td>49.234509</td>\n",
              "      <td>49.592770</td>\n",
              "      <td>49.679272</td>\n",
              "      <td>4.688887e+07</td>\n",
              "      <td>51.513112</td>\n",
              "    </tr>\n",
              "    <tr>\n",
              "      <th>min</th>\n",
              "      <td>57.085712</td>\n",
              "      <td>55.014286</td>\n",
              "      <td>55.424286</td>\n",
              "      <td>55.790001</td>\n",
              "      <td>1.136200e+07</td>\n",
              "      <td>48.921928</td>\n",
              "    </tr>\n",
              "    <tr>\n",
              "      <th>25%</th>\n",
              "      <td>86.649998</td>\n",
              "      <td>84.915001</td>\n",
              "      <td>85.766430</td>\n",
              "      <td>85.971428</td>\n",
              "      <td>2.760790e+07</td>\n",
              "      <td>74.975204</td>\n",
              "    </tr>\n",
              "    <tr>\n",
              "      <th>50%</th>\n",
              "      <td>114.019997</td>\n",
              "      <td>111.660004</td>\n",
              "      <td>112.820000</td>\n",
              "      <td>112.919998</td>\n",
              "      <td>4.369990e+07</td>\n",
              "      <td>105.038940</td>\n",
              "    </tr>\n",
              "    <tr>\n",
              "      <th>75%</th>\n",
              "      <td>165.939995</td>\n",
              "      <td>162.125000</td>\n",
              "      <td>163.845001</td>\n",
              "      <td>163.970001</td>\n",
              "      <td>7.482090e+07</td>\n",
              "      <td>158.054070</td>\n",
              "    </tr>\n",
              "    <tr>\n",
              "      <th>max</th>\n",
              "      <td>281.769989</td>\n",
              "      <td>278.799988</td>\n",
              "      <td>279.570007</td>\n",
              "      <td>280.410004</td>\n",
              "      <td>3.765300e+08</td>\n",
              "      <td>278.488770</td>\n",
              "    </tr>\n",
              "  </tbody>\n",
              "</table>\n",
              "</div>"
            ],
            "text/plain": [
              "              High          Low  ...        Volume    Adj Close\n",
              "count  2003.000000  2003.000000  ...  2.003000e+03  2003.000000\n",
              "mean    127.194100   124.954538  ...  5.960691e+07   118.853006\n",
              "std      50.028310    49.234509  ...  4.688887e+07    51.513112\n",
              "min      57.085712    55.014286  ...  1.136200e+07    48.921928\n",
              "25%      86.649998    84.915001  ...  2.760790e+07    74.975204\n",
              "50%     114.019997   111.660004  ...  4.369990e+07   105.038940\n",
              "75%     165.939995   162.125000  ...  7.482090e+07   158.054070\n",
              "max     281.769989   278.799988  ...  3.765300e+08   278.488770\n",
              "\n",
              "[8 rows x 6 columns]"
            ]
          },
          "metadata": {
            "tags": []
          },
          "execution_count": 6
        }
      ]
    },
    {
      "cell_type": "code",
      "metadata": {
        "id": "MoMKpBCX1vjw",
        "colab": {
          "base_uri": "https://localhost:8080/",
          "height": 260
        },
        "outputId": "14c935a6-84da-4add-d7f0-314bfb409eca"
      },
      "source": [
        "data.info()"
      ],
      "execution_count": null,
      "outputs": [
        {
          "output_type": "stream",
          "text": [
            "<class 'pandas.core.frame.DataFrame'>\n",
            "RangeIndex: 2003 entries, 0 to 2002\n",
            "Data columns (total 7 columns):\n",
            " #   Column     Non-Null Count  Dtype         \n",
            "---  ------     --------------  -----         \n",
            " 0   Date       2003 non-null   datetime64[ns]\n",
            " 1   High       2003 non-null   float64       \n",
            " 2   Low        2003 non-null   float64       \n",
            " 3   Open       2003 non-null   float64       \n",
            " 4   Close      2003 non-null   float64       \n",
            " 5   Volume     2003 non-null   float64       \n",
            " 6   Adj Close  2003 non-null   float64       \n",
            "dtypes: datetime64[ns](1), float64(6)\n",
            "memory usage: 109.7 KB\n"
          ],
          "name": "stdout"
        }
      ]
    },
    {
      "cell_type": "code",
      "metadata": {
        "id": "tUUCDl1eV3Jm"
      },
      "source": [
        ""
      ],
      "execution_count": null,
      "outputs": []
    },
    {
      "cell_type": "markdown",
      "metadata": {
        "id": "jyBcfsm0V332"
      },
      "source": [
        "###Checking Missing Values"
      ]
    },
    {
      "cell_type": "code",
      "metadata": {
        "id": "35jJOYhm1tYd",
        "colab": {
          "base_uri": "https://localhost:8080/",
          "height": 156
        },
        "outputId": "f33fb51d-4852-475b-d765-1c42fdc8b8ff"
      },
      "source": [
        "data.isna().sum() #.any()"
      ],
      "execution_count": null,
      "outputs": [
        {
          "output_type": "execute_result",
          "data": {
            "text/plain": [
              "Date         0\n",
              "High         0\n",
              "Low          0\n",
              "Open         0\n",
              "Close        0\n",
              "Volume       0\n",
              "Adj Close    0\n",
              "dtype: int64"
            ]
          },
          "metadata": {
            "tags": []
          },
          "execution_count": 8
        }
      ]
    },
    {
      "cell_type": "markdown",
      "metadata": {
        "id": "GpLV0zcdWBii"
      },
      "source": [
        "###Segregating Date"
      ]
    },
    {
      "cell_type": "code",
      "metadata": {
        "id": "yGPVi9xUKMGB",
        "colab": {
          "base_uri": "https://localhost:8080/",
          "height": 202
        },
        "outputId": "73fd1bb8-9f63-4dc4-fb41-003750eff029"
      },
      "source": [
        "data['Day'] = pd.DatetimeIndex(data['Date']).day\n",
        "data['Month'] = pd.DatetimeIndex(data['Date']).month\n",
        "data['Year'] = pd.DatetimeIndex(data['Date']).year\n",
        "data.head()"
      ],
      "execution_count": null,
      "outputs": [
        {
          "output_type": "execute_result",
          "data": {
            "text/html": [
              "<div>\n",
              "<style scoped>\n",
              "    .dataframe tbody tr th:only-of-type {\n",
              "        vertical-align: middle;\n",
              "    }\n",
              "\n",
              "    .dataframe tbody tr th {\n",
              "        vertical-align: top;\n",
              "    }\n",
              "\n",
              "    .dataframe thead th {\n",
              "        text-align: right;\n",
              "    }\n",
              "</style>\n",
              "<table border=\"1\" class=\"dataframe\">\n",
              "  <thead>\n",
              "    <tr style=\"text-align: right;\">\n",
              "      <th></th>\n",
              "      <th>Date</th>\n",
              "      <th>High</th>\n",
              "      <th>Low</th>\n",
              "      <th>Open</th>\n",
              "      <th>Close</th>\n",
              "      <th>Volume</th>\n",
              "      <th>Adj Close</th>\n",
              "      <th>Day</th>\n",
              "      <th>Month</th>\n",
              "      <th>Year</th>\n",
              "    </tr>\n",
              "  </thead>\n",
              "  <tbody>\n",
              "    <tr>\n",
              "      <th>0</th>\n",
              "      <td>2012-01-03</td>\n",
              "      <td>58.928570</td>\n",
              "      <td>58.428570</td>\n",
              "      <td>58.485714</td>\n",
              "      <td>58.747143</td>\n",
              "      <td>75555200.0</td>\n",
              "      <td>50.765709</td>\n",
              "      <td>3</td>\n",
              "      <td>1</td>\n",
              "      <td>2012</td>\n",
              "    </tr>\n",
              "    <tr>\n",
              "      <th>1</th>\n",
              "      <td>2012-01-04</td>\n",
              "      <td>59.240002</td>\n",
              "      <td>58.468571</td>\n",
              "      <td>58.571430</td>\n",
              "      <td>59.062859</td>\n",
              "      <td>65005500.0</td>\n",
              "      <td>51.038536</td>\n",
              "      <td>4</td>\n",
              "      <td>1</td>\n",
              "      <td>2012</td>\n",
              "    </tr>\n",
              "    <tr>\n",
              "      <th>2</th>\n",
              "      <td>2012-01-05</td>\n",
              "      <td>59.792858</td>\n",
              "      <td>58.952858</td>\n",
              "      <td>59.278572</td>\n",
              "      <td>59.718571</td>\n",
              "      <td>67817400.0</td>\n",
              "      <td>51.605175</td>\n",
              "      <td>5</td>\n",
              "      <td>1</td>\n",
              "      <td>2012</td>\n",
              "    </tr>\n",
              "    <tr>\n",
              "      <th>3</th>\n",
              "      <td>2012-01-06</td>\n",
              "      <td>60.392857</td>\n",
              "      <td>59.888573</td>\n",
              "      <td>59.967144</td>\n",
              "      <td>60.342857</td>\n",
              "      <td>79573200.0</td>\n",
              "      <td>52.144630</td>\n",
              "      <td>6</td>\n",
              "      <td>1</td>\n",
              "      <td>2012</td>\n",
              "    </tr>\n",
              "    <tr>\n",
              "      <th>4</th>\n",
              "      <td>2012-01-09</td>\n",
              "      <td>61.107143</td>\n",
              "      <td>60.192856</td>\n",
              "      <td>60.785713</td>\n",
              "      <td>60.247143</td>\n",
              "      <td>98506100.0</td>\n",
              "      <td>52.061932</td>\n",
              "      <td>9</td>\n",
              "      <td>1</td>\n",
              "      <td>2012</td>\n",
              "    </tr>\n",
              "  </tbody>\n",
              "</table>\n",
              "</div>"
            ],
            "text/plain": [
              "        Date       High        Low       Open  ...  Adj Close  Day  Month  Year\n",
              "0 2012-01-03  58.928570  58.428570  58.485714  ...  50.765709    3      1  2012\n",
              "1 2012-01-04  59.240002  58.468571  58.571430  ...  51.038536    4      1  2012\n",
              "2 2012-01-05  59.792858  58.952858  59.278572  ...  51.605175    5      1  2012\n",
              "3 2012-01-06  60.392857  59.888573  59.967144  ...  52.144630    6      1  2012\n",
              "4 2012-01-09  61.107143  60.192856  60.785713  ...  52.061932    9      1  2012\n",
              "\n",
              "[5 rows x 10 columns]"
            ]
          },
          "metadata": {
            "tags": []
          },
          "execution_count": 9
        }
      ]
    },
    {
      "cell_type": "code",
      "metadata": {
        "id": "46eN9XRIL9PL",
        "colab": {
          "base_uri": "https://localhost:8080/",
          "height": 35
        },
        "outputId": "4f21ddf8-6ea9-4340-8e68-2df226095a72"
      },
      "source": [
        "\"\"\"data.drop(['Date', 'Close: 30 Days Means'], axis = 1, inplace = True)\n",
        "data.head()\"\"\""
      ],
      "execution_count": null,
      "outputs": [
        {
          "output_type": "execute_result",
          "data": {
            "application/vnd.google.colaboratory.intrinsic+json": {
              "type": "string"
            },
            "text/plain": [
              "\"data.drop(['Date', 'Close: 30 Days Means'], axis = 1, inplace = True)\\ndata.head()\""
            ]
          },
          "metadata": {
            "tags": []
          },
          "execution_count": 10
        }
      ]
    },
    {
      "cell_type": "markdown",
      "metadata": {
        "id": "9J2O5BeHWEqH"
      },
      "source": [
        "#Visualization"
      ]
    },
    {
      "cell_type": "markdown",
      "metadata": {
        "id": "3DknUXc-WLeY"
      },
      "source": [
        "###Groupby with Year and Open Columns"
      ]
    },
    {
      "cell_type": "code",
      "metadata": {
        "id": "OuARkkTxLCnz",
        "colab": {
          "base_uri": "https://localhost:8080/",
          "height": 455
        },
        "outputId": "773d291f-a2dc-4b8e-ac77-eab8561b9650"
      },
      "source": [
        "train.groupby('Year')['Open'].plot()"
      ],
      "execution_count": null,
      "outputs": [
        {
          "output_type": "execute_result",
          "data": {
            "text/plain": [
              "Year\n",
              "2012    AxesSubplot(0.08,0.07;0.87x0.81)\n",
              "2013    AxesSubplot(0.08,0.07;0.87x0.81)\n",
              "2014    AxesSubplot(0.08,0.07;0.87x0.81)\n",
              "2015    AxesSubplot(0.08,0.07;0.87x0.81)\n",
              "2016    AxesSubplot(0.08,0.07;0.87x0.81)\n",
              "2017    AxesSubplot(0.08,0.07;0.87x0.81)\n",
              "2018    AxesSubplot(0.08,0.07;0.87x0.81)\n",
              "2019    AxesSubplot(0.08,0.07;0.87x0.81)\n",
              "Name: Open, dtype: object"
            ]
          },
          "metadata": {
            "tags": []
          },
          "execution_count": 11
        },
        {
          "output_type": "display_data",
          "data": {
            "image/png": "[encoded data removed]",
            "text/plain": [
              "<Figure size 432x288 with 1 Axes>"
            ]
          },
          "metadata": {
            "tags": []
          }
        }
      ]
    },
    {
      "cell_type": "markdown",
      "metadata": {
        "id": "is0uWU1CWT0G"
      },
      "source": [
        "###Stock Analysis from Past 15 Days data"
      ]
    },
    {
      "cell_type": "code",
      "metadata": {
        "id": "V0jAxuBIHUfP",
        "colab": {
          "base_uri": "https://localhost:8080/",
          "height": 662
        },
        "outputId": "25b6caa5-e3c3-4751-a07e-cc527b75e139"
      },
      "source": [
        "data[['High',\t'Low',\t'Open',\t'Close',\t'Volume',\t'Adj Close']].rolling(15).mean().head(20)"
      ],
      "execution_count": null,
      "outputs": [
        {
          "output_type": "execute_result",
          "data": {
            "text/html": [
              "<div>\n",
              "<style scoped>\n",
              "    .dataframe tbody tr th:only-of-type {\n",
              "        vertical-align: middle;\n",
              "    }\n",
              "\n",
              "    .dataframe tbody tr th {\n",
              "        vertical-align: top;\n",
              "    }\n",
              "\n",
              "    .dataframe thead th {\n",
              "        text-align: right;\n",
              "    }\n",
              "</style>\n",
              "<table border=\"1\" class=\"dataframe\">\n",
              "  <thead>\n",
              "    <tr style=\"text-align: right;\">\n",
              "      <th></th>\n",
              "      <th>High</th>\n",
              "      <th>Low</th>\n",
              "      <th>Open</th>\n",
              "      <th>Close</th>\n",
              "      <th>Volume</th>\n",
              "      <th>Adj Close</th>\n",
              "    </tr>\n",
              "  </thead>\n",
              "  <tbody>\n",
              "    <tr>\n",
              "      <th>0</th>\n",
              "      <td>NaN</td>\n",
              "      <td>NaN</td>\n",
              "      <td>NaN</td>\n",
              "      <td>NaN</td>\n",
              "      <td>NaN</td>\n",
              "      <td>NaN</td>\n",
              "    </tr>\n",
              "    <tr>\n",
              "      <th>1</th>\n",
              "      <td>NaN</td>\n",
              "      <td>NaN</td>\n",
              "      <td>NaN</td>\n",
              "      <td>NaN</td>\n",
              "      <td>NaN</td>\n",
              "      <td>NaN</td>\n",
              "    </tr>\n",
              "    <tr>\n",
              "      <th>2</th>\n",
              "      <td>NaN</td>\n",
              "      <td>NaN</td>\n",
              "      <td>NaN</td>\n",
              "      <td>NaN</td>\n",
              "      <td>NaN</td>\n",
              "      <td>NaN</td>\n",
              "    </tr>\n",
              "    <tr>\n",
              "      <th>3</th>\n",
              "      <td>NaN</td>\n",
              "      <td>NaN</td>\n",
              "      <td>NaN</td>\n",
              "      <td>NaN</td>\n",
              "      <td>NaN</td>\n",
              "      <td>NaN</td>\n",
              "    </tr>\n",
              "    <tr>\n",
              "      <th>4</th>\n",
              "      <td>NaN</td>\n",
              "      <td>NaN</td>\n",
              "      <td>NaN</td>\n",
              "      <td>NaN</td>\n",
              "      <td>NaN</td>\n",
              "      <td>NaN</td>\n",
              "    </tr>\n",
              "    <tr>\n",
              "      <th>5</th>\n",
              "      <td>NaN</td>\n",
              "      <td>NaN</td>\n",
              "      <td>NaN</td>\n",
              "      <td>NaN</td>\n",
              "      <td>NaN</td>\n",
              "      <td>NaN</td>\n",
              "    </tr>\n",
              "    <tr>\n",
              "      <th>6</th>\n",
              "      <td>NaN</td>\n",
              "      <td>NaN</td>\n",
              "      <td>NaN</td>\n",
              "      <td>NaN</td>\n",
              "      <td>NaN</td>\n",
              "      <td>NaN</td>\n",
              "    </tr>\n",
              "    <tr>\n",
              "      <th>7</th>\n",
              "      <td>NaN</td>\n",
              "      <td>NaN</td>\n",
              "      <td>NaN</td>\n",
              "      <td>NaN</td>\n",
              "      <td>NaN</td>\n",
              "      <td>NaN</td>\n",
              "    </tr>\n",
              "    <tr>\n",
              "      <th>8</th>\n",
              "      <td>NaN</td>\n",
              "      <td>NaN</td>\n",
              "      <td>NaN</td>\n",
              "      <td>NaN</td>\n",
              "      <td>NaN</td>\n",
              "      <td>NaN</td>\n",
              "    </tr>\n",
              "    <tr>\n",
              "      <th>9</th>\n",
              "      <td>NaN</td>\n",
              "      <td>NaN</td>\n",
              "      <td>NaN</td>\n",
              "      <td>NaN</td>\n",
              "      <td>NaN</td>\n",
              "      <td>NaN</td>\n",
              "    </tr>\n",
              "    <tr>\n",
              "      <th>10</th>\n",
              "      <td>NaN</td>\n",
              "      <td>NaN</td>\n",
              "      <td>NaN</td>\n",
              "      <td>NaN</td>\n",
              "      <td>NaN</td>\n",
              "      <td>NaN</td>\n",
              "    </tr>\n",
              "    <tr>\n",
              "      <th>11</th>\n",
              "      <td>NaN</td>\n",
              "      <td>NaN</td>\n",
              "      <td>NaN</td>\n",
              "      <td>NaN</td>\n",
              "      <td>NaN</td>\n",
              "      <td>NaN</td>\n",
              "    </tr>\n",
              "    <tr>\n",
              "      <th>12</th>\n",
              "      <td>NaN</td>\n",
              "      <td>NaN</td>\n",
              "      <td>NaN</td>\n",
              "      <td>NaN</td>\n",
              "      <td>NaN</td>\n",
              "      <td>NaN</td>\n",
              "    </tr>\n",
              "    <tr>\n",
              "      <th>13</th>\n",
              "      <td>NaN</td>\n",
              "      <td>NaN</td>\n",
              "      <td>NaN</td>\n",
              "      <td>NaN</td>\n",
              "      <td>NaN</td>\n",
              "      <td>NaN</td>\n",
              "    </tr>\n",
              "    <tr>\n",
              "      <th>14</th>\n",
              "      <td>60.536286</td>\n",
              "      <td>59.877238</td>\n",
              "      <td>60.254857</td>\n",
              "      <td>60.223810</td>\n",
              "      <td>7.511369e+07</td>\n",
              "      <td>52.041761</td>\n",
              "    </tr>\n",
              "    <tr>\n",
              "      <th>15</th>\n",
              "      <td>60.935810</td>\n",
              "      <td>60.208000</td>\n",
              "      <td>60.683809</td>\n",
              "      <td>60.561238</td>\n",
              "      <td>8.604857e+07</td>\n",
              "      <td>52.333347</td>\n",
              "    </tr>\n",
              "    <tr>\n",
              "      <th>16</th>\n",
              "      <td>61.260666</td>\n",
              "      <td>60.530476</td>\n",
              "      <td>61.049143</td>\n",
              "      <td>60.858286</td>\n",
              "      <td>8.711463e+07</td>\n",
              "      <td>52.590037</td>\n",
              "    </tr>\n",
              "    <tr>\n",
              "      <th>17</th>\n",
              "      <td>61.545714</td>\n",
              "      <td>60.826667</td>\n",
              "      <td>61.329047</td>\n",
              "      <td>61.136857</td>\n",
              "      <td>8.758862e+07</td>\n",
              "      <td>52.830760</td>\n",
              "    </tr>\n",
              "    <tr>\n",
              "      <th>18</th>\n",
              "      <td>61.842381</td>\n",
              "      <td>61.075905</td>\n",
              "      <td>61.576095</td>\n",
              "      <td>61.428381</td>\n",
              "      <td>8.860609e+07</td>\n",
              "      <td>53.082677</td>\n",
              "    </tr>\n",
              "    <tr>\n",
              "      <th>19</th>\n",
              "      <td>62.132762</td>\n",
              "      <td>61.378000</td>\n",
              "      <td>61.862666</td>\n",
              "      <td>61.759333</td>\n",
              "      <td>8.856708e+07</td>\n",
              "      <td>53.368666</td>\n",
              "    </tr>\n",
              "  </tbody>\n",
              "</table>\n",
              "</div>"
            ],
            "text/plain": [
              "         High        Low       Open      Close        Volume  Adj Close\n",
              "0         NaN        NaN        NaN        NaN           NaN        NaN\n",
              "1         NaN        NaN        NaN        NaN           NaN        NaN\n",
              "2         NaN        NaN        NaN        NaN           NaN        NaN\n",
              "3         NaN        NaN        NaN        NaN           NaN        NaN\n",
              "4         NaN        NaN        NaN        NaN           NaN        NaN\n",
              "5         NaN        NaN        NaN        NaN           NaN        NaN\n",
              "6         NaN        NaN        NaN        NaN           NaN        NaN\n",
              "7         NaN        NaN        NaN        NaN           NaN        NaN\n",
              "8         NaN        NaN        NaN        NaN           NaN        NaN\n",
              "9         NaN        NaN        NaN        NaN           NaN        NaN\n",
              "10        NaN        NaN        NaN        NaN           NaN        NaN\n",
              "11        NaN        NaN        NaN        NaN           NaN        NaN\n",
              "12        NaN        NaN        NaN        NaN           NaN        NaN\n",
              "13        NaN        NaN        NaN        NaN           NaN        NaN\n",
              "14  60.536286  59.877238  60.254857  60.223810  7.511369e+07  52.041761\n",
              "15  60.935810  60.208000  60.683809  60.561238  8.604857e+07  52.333347\n",
              "16  61.260666  60.530476  61.049143  60.858286  8.711463e+07  52.590037\n",
              "17  61.545714  60.826667  61.329047  61.136857  8.758862e+07  52.830760\n",
              "18  61.842381  61.075905  61.576095  61.428381  8.860609e+07  53.082677\n",
              "19  62.132762  61.378000  61.862666  61.759333  8.856708e+07  53.368666"
            ]
          },
          "metadata": {
            "tags": []
          },
          "execution_count": 12
        }
      ]
    },
    {
      "cell_type": "code",
      "metadata": {
        "id": "5pfHeBfd5gIS",
        "colab": {
          "base_uri": "https://localhost:8080/",
          "height": 415
        },
        "outputId": "76a37fca-06af-4724-bb5d-ebdbe92797f7"
      },
      "source": [
        "data.Open.plot(figsize=(16,6))\n",
        "data.rolling(window = 30).mean()['Close'].plot()"
      ],
      "execution_count": null,
      "outputs": [
        {
          "output_type": "execute_result",
          "data": {
            "text/plain": [
              "<matplotlib.axes._subplots.AxesSubplot at 0x7f5f33e3e0b8>"
            ]
          },
          "metadata": {
            "tags": []
          },
          "execution_count": 13
        },
        {
          "output_type": "display_data",
          "data": {
            "image/png": "[encoded data removed]",
            "text/plain": [
              "<Figure size 1152x432 with 1 Axes>"
            ]
          },
          "metadata": {
            "tags": []
          }
        }
      ]
    },
    {
      "cell_type": "markdown",
      "metadata": {
        "id": "IPfyqSrRWhmG"
      },
      "source": [
        "###Analysis of Close VS Close: 30 Days Means"
      ]
    },
    {
      "cell_type": "code",
      "metadata": {
        "id": "OmNdizg7-IOf",
        "colab": {
          "base_uri": "https://localhost:8080/",
          "height": 299
        },
        "outputId": "de726622-d627-425c-ae53-76d34753c505"
      },
      "source": [
        "data['Close: 30 Days Means'] = data['Close'].rolling(window = 30).mean()\n",
        "data[['Close', 'Close: 30 Days Means']].plot()"
      ],
      "execution_count": null,
      "outputs": [
        {
          "output_type": "execute_result",
          "data": {
            "text/plain": [
              "<matplotlib.axes._subplots.AxesSubplot at 0x7f5f33d946d8>"
            ]
          },
          "metadata": {
            "tags": []
          },
          "execution_count": 14
        },
        {
          "output_type": "display_data",
          "data": {
            "image/png": "[encoded data removed]",
            "text/plain": [
              "<Figure size 432x288 with 1 Axes>"
            ]
          },
          "metadata": {
            "tags": []
          }
        }
      ]
    },
    {
      "cell_type": "markdown",
      "metadata": {
        "id": "XjHhZACMWpax"
      },
      "source": [
        "###Expected Transformation for a period"
      ]
    },
    {
      "cell_type": "code",
      "metadata": {
        "id": "Qk4IFjm-6168",
        "colab": {
          "base_uri": "https://localhost:8080/",
          "height": 299
        },
        "outputId": "6468d5ee-7c18-468b-bf8e-5c676d753489"
      },
      "source": [
        "data.Close.expanding(min_periods = 1).mean().plot()"
      ],
      "execution_count": null,
      "outputs": [
        {
          "output_type": "execute_result",
          "data": {
            "text/plain": [
              "<matplotlib.axes._subplots.AxesSubplot at 0x7f5f33e549b0>"
            ]
          },
          "metadata": {
            "tags": []
          },
          "execution_count": 15
        },
        {
          "output_type": "display_data",
          "data": {
            "image/png": "[encoded data removed]",
            "text/plain": [
              "<Figure size 432x288 with 1 Axes>"
            ]
          },
          "metadata": {
            "tags": []
          }
        }
      ]
    },
    {
      "cell_type": "markdown",
      "metadata": {
        "id": "5uwG9B3KW4zM"
      },
      "source": [
        "#Training Data"
      ]
    },
    {
      "cell_type": "code",
      "metadata": {
        "id": "U8loL8xL_H0R",
        "colab": {
          "base_uri": "https://localhost:8080/",
          "height": 35
        },
        "outputId": "90c5efaa-5362-45a1-ec78-811031d2d282"
      },
      "source": [
        "train = pd.DataFrame(data['Open'])\n",
        "print(train.shape)"
      ],
      "execution_count": null,
      "outputs": [
        {
          "output_type": "stream",
          "text": [
            "(2003, 1)\n"
          ],
          "name": "stdout"
        }
      ]
    },
    {
      "cell_type": "markdown",
      "metadata": {
        "id": "0E7MRnCXW892"
      },
      "source": [
        "###Scaling with MinMaxScaler"
      ]
    },
    {
      "cell_type": "code",
      "metadata": {
        "id": "YMA_L6Qq_RZa"
      },
      "source": [
        "from sklearn.preprocessing import MinMaxScaler\n",
        "SC = MinMaxScaler(feature_range = (0, 1))\n",
        "train_scaled = SC.fit_transform(train)"
      ],
      "execution_count": null,
      "outputs": []
    },
    {
      "cell_type": "markdown",
      "metadata": {
        "id": "2pMj0IKfXBv0"
      },
      "source": [
        "###Splitting Data to X_train and Y_train"
      ]
    },
    {
      "cell_type": "code",
      "metadata": {
        "id": "cbEv8R8p_m_O",
        "colab": {
          "base_uri": "https://localhost:8080/",
          "height": 35
        },
        "outputId": "6f56a6ca-c938-4728-f84a-bf3f0935dd43"
      },
      "source": [
        "X_train = []\n",
        "Y_train = []\n",
        "\n",
        "for i in range(60, 1258):\n",
        "  X_train.append(train_scaled[i-60:i, 0])\n",
        "  Y_train.append(train_scaled[i, 0])\n",
        "\n",
        "X_train, Y_train = np.array(X_train), np.array(Y_train)\n",
        "print(\"X_train.shape: \", X_train.shape, \"Y_train.shape: \", Y_train.shape)"
      ],
      "execution_count": null,
      "outputs": [
        {
          "output_type": "stream",
          "text": [
            "X_train.shape:  (1198, 60) Y_train.shape:  (1198,)\n"
          ],
          "name": "stdout"
        }
      ]
    },
    {
      "cell_type": "markdown",
      "metadata": {
        "id": "V7EbJLJpXHnd"
      },
      "source": [
        "###Reshaping X_train to (X_train.shape[0], X_train.shape[1], 1)"
      ]
    },
    {
      "cell_type": "code",
      "metadata": {
        "id": "69CdVFrQO7hB",
        "colab": {
          "base_uri": "https://localhost:8080/",
          "height": 35
        },
        "outputId": "fb8f5361-4889-451e-8c24-0e75949f8abb"
      },
      "source": [
        "X_train = np.reshape(X_train, (X_train.shape[0], X_train.shape[1], 1))\n",
        "print(\"X_train.shape: \", X_train.shape)"
      ],
      "execution_count": null,
      "outputs": [
        {
          "output_type": "stream",
          "text": [
            "X_train.shape:  (1198, 60, 1)\n"
          ],
          "name": "stdout"
        }
      ]
    },
    {
      "cell_type": "markdown",
      "metadata": {
        "id": "YLDWdVjQXSQC"
      },
      "source": [
        "###Building LSTM"
      ]
    },
    {
      "cell_type": "code",
      "metadata": {
        "id": "Hmnl1W8HPRE1"
      },
      "source": [
        "from keras.models import Sequential\n",
        "from keras.layers import LSTM\n",
        "from keras.layers import Dense\n",
        "from keras.layers import Dropout"
      ],
      "execution_count": null,
      "outputs": []
    },
    {
      "cell_type": "markdown",
      "metadata": {
        "id": "-_9A3-qzXWiQ"
      },
      "source": [
        "> Creating Sequential Object"
      ]
    },
    {
      "cell_type": "code",
      "metadata": {
        "id": "aKHitlUPSo-6"
      },
      "source": [
        "regressor = Sequential()  "
      ],
      "execution_count": null,
      "outputs": []
    },
    {
      "cell_type": "markdown",
      "metadata": {
        "id": "srBmLk17Xj1h"
      },
      "source": [
        "> Adding Layers"
      ]
    },
    {
      "cell_type": "code",
      "metadata": {
        "id": "dOv5suVxSpl7"
      },
      "source": [
        "regressor.add(LSTM(units = 50, return_sequences = True, input_shape = (X_train.shape[1], 1)))\n",
        "regressor.add(Dropout(0.2)) #For Regularization, from overfitting:: Dropouts units in network\n",
        "\n",
        "regressor.add(LSTM(units = 50, return_sequences = True))\n",
        "regressor.add(Dropout(0.2))\n",
        "\n",
        "regressor.add(LSTM(units = 50, return_sequences = True))\n",
        "regressor.add(Dropout(0.2))\n",
        "\n",
        "regressor.add(LSTM(units = 50))\n",
        "regressor.add(Dropout(0.2))\n",
        "\n",
        "regressor.add(Dense(units = 1))"
      ],
      "execution_count": null,
      "outputs": []
    },
    {
      "cell_type": "markdown",
      "metadata": {
        "id": "-51H69eoXnwf"
      },
      "source": [
        "> Compiling and Fitting the Training Data"
      ]
    },
    {
      "cell_type": "code",
      "metadata": {
        "id": "sDDGnU8NUkcV",
        "colab": {
          "base_uri": "https://localhost:8080/",
          "height": 1000
        },
        "outputId": "21443fb6-5e62-46e1-ae7c-eb201c43ea0d"
      },
      "source": [
        "regressor.compile(optimizer = 'adam', loss = 'mean_squared_error')\n",
        "regressor.fit(X_train, Y_train, epochs = 100, batch_size=32)"
      ],
      "execution_count": null,
      "outputs": [
        {
          "output_type": "stream",
          "text": [
            "Epoch 1/100\n",
            "38/38 [==============================] - 4s 100ms/step - loss: 2.0852e-04\n",
            "Epoch 2/100\n",
            "38/38 [==============================] - 4s 106ms/step - loss: 1.5822e-04\n",
            "Epoch 3/100\n",
            "38/38 [==============================] - 4s 105ms/step - loss: 1.4510e-04\n",
            "Epoch 4/100\n",
            "38/38 [==============================] - 4s 104ms/step - loss: 1.8221e-04\n",
            "Epoch 5/100\n",
            "38/38 [==============================] - 4s 101ms/step - loss: 1.6239e-04\n",
            "Epoch 6/100\n",
            "38/38 [==============================] - 4s 103ms/step - loss: 1.6868e-04\n",
            "Epoch 7/100\n",
            "38/38 [==============================] - 4s 106ms/step - loss: 1.5898e-04\n",
            "Epoch 8/100\n",
            "38/38 [==============================] - 4s 101ms/step - loss: 1.7561e-04\n",
            "Epoch 9/100\n",
            "38/38 [==============================] - 4s 102ms/step - loss: 1.7164e-04\n",
            "Epoch 10/100\n",
            "38/38 [==============================] - 4s 101ms/step - loss: 1.7171e-04\n",
            "Epoch 11/100\n",
            "38/38 [==============================] - 4s 101ms/step - loss: 1.7277e-04\n",
            "Epoch 12/100\n",
            "38/38 [==============================] - 4s 102ms/step - loss: 1.5197e-04\n",
            "Epoch 13/100\n",
            "38/38 [==============================] - 4s 102ms/step - loss: 1.6245e-04\n",
            "Epoch 14/100\n",
            "38/38 [==============================] - 4s 102ms/step - loss: 1.5117e-04\n",
            "Epoch 15/100\n",
            "38/38 [==============================] - 4s 102ms/step - loss: 1.5836e-04\n",
            "Epoch 16/100\n",
            "38/38 [==============================] - 4s 102ms/step - loss: 1.7457e-04\n",
            "Epoch 17/100\n",
            "38/38 [==============================] - 4s 102ms/step - loss: 1.6132e-04\n",
            "Epoch 18/100\n",
            "38/38 [==============================] - 4s 101ms/step - loss: 1.8137e-04\n",
            "Epoch 19/100\n",
            "38/38 [==============================] - 4s 102ms/step - loss: 1.6880e-04\n",
            "Epoch 20/100\n",
            "38/38 [==============================] - 4s 103ms/step - loss: 1.6760e-04\n",
            "Epoch 21/100\n",
            "38/38 [==============================] - 4s 101ms/step - loss: 1.5549e-04\n",
            "Epoch 22/100\n",
            "38/38 [==============================] - 4s 102ms/step - loss: 1.6600e-04\n",
            "Epoch 23/100\n",
            "38/38 [==============================] - 4s 102ms/step - loss: 1.5092e-04\n",
            "Epoch 24/100\n",
            "38/38 [==============================] - 4s 102ms/step - loss: 1.5707e-04\n",
            "Epoch 25/100\n",
            "38/38 [==============================] - 4s 103ms/step - loss: 1.5850e-04\n",
            "Epoch 26/100\n",
            "38/38 [==============================] - 4s 102ms/step - loss: 1.4647e-04\n",
            "Epoch 27/100\n",
            "38/38 [==============================] - 4s 102ms/step - loss: 1.5126e-04\n",
            "Epoch 28/100\n",
            "38/38 [==============================] - 4s 103ms/step - loss: 1.7258e-04\n",
            "Epoch 29/100\n",
            "38/38 [==============================] - 4s 102ms/step - loss: 1.5479e-04\n",
            "Epoch 30/100\n",
            "38/38 [==============================] - 4s 103ms/step - loss: 1.6587e-04\n",
            "Epoch 31/100\n",
            "38/38 [==============================] - 4s 103ms/step - loss: 1.5782e-04\n",
            "Epoch 32/100\n",
            "38/38 [==============================] - 4s 103ms/step - loss: 1.6086e-04\n",
            "Epoch 33/100\n",
            "38/38 [==============================] - 4s 103ms/step - loss: 1.7952e-04\n",
            "Epoch 34/100\n",
            "38/38 [==============================] - 4s 102ms/step - loss: 1.4688e-04\n",
            "Epoch 35/100\n",
            "38/38 [==============================] - 4s 103ms/step - loss: 1.4222e-04\n",
            "Epoch 36/100\n",
            "38/38 [==============================] - 4s 102ms/step - loss: 1.4170e-04\n",
            "Epoch 37/100\n",
            "38/38 [==============================] - 4s 103ms/step - loss: 1.4940e-04\n",
            "Epoch 38/100\n",
            "38/38 [==============================] - 4s 102ms/step - loss: 1.6480e-04\n",
            "Epoch 39/100\n",
            "38/38 [==============================] - 4s 102ms/step - loss: 1.7082e-04\n",
            "Epoch 40/100\n",
            "38/38 [==============================] - 4s 103ms/step - loss: 1.6225e-04\n",
            "Epoch 41/100\n",
            "38/38 [==============================] - 4s 102ms/step - loss: 1.6430e-04\n",
            "Epoch 42/100\n",
            "38/38 [==============================] - 4s 102ms/step - loss: 2.2522e-04\n",
            "Epoch 43/100\n",
            "38/38 [==============================] - 4s 103ms/step - loss: 1.5700e-04\n",
            "Epoch 44/100\n",
            "38/38 [==============================] - 4s 102ms/step - loss: 1.6326e-04\n",
            "Epoch 45/100\n",
            "38/38 [==============================] - 4s 103ms/step - loss: 1.7954e-04\n",
            "Epoch 46/100\n",
            "38/38 [==============================] - 4s 103ms/step - loss: 1.4728e-04\n",
            "Epoch 47/100\n",
            "38/38 [==============================] - 4s 102ms/step - loss: 1.5320e-04\n",
            "Epoch 48/100\n",
            "38/38 [==============================] - 4s 102ms/step - loss: 1.3907e-04\n",
            "Epoch 49/100\n",
            "38/38 [==============================] - 4s 103ms/step - loss: 1.4089e-04\n",
            "Epoch 50/100\n",
            "38/38 [==============================] - 4s 102ms/step - loss: 1.4959e-04\n",
            "Epoch 51/100\n",
            "38/38 [==============================] - 4s 103ms/step - loss: 1.4744e-04\n",
            "Epoch 52/100\n",
            "38/38 [==============================] - 4s 103ms/step - loss: 1.4196e-04\n",
            "Epoch 53/100\n",
            "38/38 [==============================] - 4s 102ms/step - loss: 1.8113e-04\n",
            "Epoch 54/100\n",
            "38/38 [==============================] - 4s 102ms/step - loss: 1.4455e-04\n",
            "Epoch 55/100\n",
            "38/38 [==============================] - 4s 101ms/step - loss: 1.4866e-04\n",
            "Epoch 56/100\n",
            "38/38 [==============================] - 4s 103ms/step - loss: 1.8363e-04\n",
            "Epoch 57/100\n",
            "38/38 [==============================] - 4s 102ms/step - loss: 1.6133e-04\n",
            "Epoch 58/100\n",
            "38/38 [==============================] - 4s 103ms/step - loss: 1.4161e-04\n",
            "Epoch 59/100\n",
            "38/38 [==============================] - 4s 103ms/step - loss: 1.4496e-04\n",
            "Epoch 60/100\n",
            "38/38 [==============================] - 4s 102ms/step - loss: 1.5864e-04\n",
            "Epoch 61/100\n",
            "38/38 [==============================] - 4s 103ms/step - loss: 1.5527e-04\n",
            "Epoch 62/100\n",
            "38/38 [==============================] - 4s 103ms/step - loss: 1.5272e-04\n",
            "Epoch 63/100\n",
            "38/38 [==============================] - 4s 102ms/step - loss: 1.5050e-04\n",
            "Epoch 64/100\n",
            "38/38 [==============================] - 4s 103ms/step - loss: 1.5314e-04\n",
            "Epoch 65/100\n",
            "38/38 [==============================] - 4s 102ms/step - loss: 1.6737e-04\n",
            "Epoch 66/100\n",
            "38/38 [==============================] - 4s 102ms/step - loss: 1.4449e-04\n",
            "Epoch 67/100\n",
            "38/38 [==============================] - 4s 102ms/step - loss: 1.5211e-04\n",
            "Epoch 68/100\n",
            "38/38 [==============================] - 4s 103ms/step - loss: 1.6253e-04\n",
            "Epoch 69/100\n",
            "38/38 [==============================] - 4s 103ms/step - loss: 1.5137e-04\n",
            "Epoch 70/100\n",
            "38/38 [==============================] - 4s 102ms/step - loss: 1.5334e-04\n",
            "Epoch 71/100\n",
            "38/38 [==============================] - 4s 103ms/step - loss: 1.6341e-04\n",
            "Epoch 72/100\n",
            "38/38 [==============================] - 4s 103ms/step - loss: 1.4824e-04\n",
            "Epoch 73/100\n",
            "38/38 [==============================] - 4s 103ms/step - loss: 1.4964e-04\n",
            "Epoch 74/100\n",
            "38/38 [==============================] - 4s 104ms/step - loss: 1.5365e-04\n",
            "Epoch 75/100\n",
            "38/38 [==============================] - 4s 103ms/step - loss: 1.5340e-04\n",
            "Epoch 76/100\n",
            "38/38 [==============================] - 4s 103ms/step - loss: 1.3968e-04\n",
            "Epoch 77/100\n",
            "38/38 [==============================] - 4s 103ms/step - loss: 1.6027e-04\n",
            "Epoch 78/100\n",
            "38/38 [==============================] - 4s 103ms/step - loss: 1.5771e-04\n",
            "Epoch 79/100\n",
            "38/38 [==============================] - 4s 104ms/step - loss: 1.4005e-04\n",
            "Epoch 80/100\n",
            "38/38 [==============================] - 4s 108ms/step - loss: 1.5008e-04\n",
            "Epoch 81/100\n",
            "38/38 [==============================] - 4s 107ms/step - loss: 1.4425e-04\n",
            "Epoch 82/100\n",
            "38/38 [==============================] - 4s 104ms/step - loss: 1.4105e-04\n",
            "Epoch 83/100\n",
            "38/38 [==============================] - 4s 106ms/step - loss: 1.6351e-04\n",
            "Epoch 84/100\n",
            "38/38 [==============================] - 4s 105ms/step - loss: 1.4832e-04\n",
            "Epoch 85/100\n",
            "38/38 [==============================] - 4s 102ms/step - loss: 1.4252e-04\n",
            "Epoch 86/100\n",
            "38/38 [==============================] - 4s 102ms/step - loss: 1.3680e-04\n",
            "Epoch 87/100\n",
            "38/38 [==============================] - 4s 102ms/step - loss: 1.4755e-04\n",
            "Epoch 88/100\n",
            "38/38 [==============================] - 4s 103ms/step - loss: 1.3724e-04\n",
            "Epoch 89/100\n",
            "38/38 [==============================] - 4s 102ms/step - loss: 1.3284e-04\n",
            "Epoch 90/100\n",
            "38/38 [==============================] - 4s 103ms/step - loss: 1.4267e-04\n",
            "Epoch 91/100\n",
            "38/38 [==============================] - 4s 104ms/step - loss: 1.5872e-04\n",
            "Epoch 92/100\n",
            "38/38 [==============================] - 4s 103ms/step - loss: 1.4373e-04\n",
            "Epoch 93/100\n",
            "38/38 [==============================] - 4s 103ms/step - loss: 1.5948e-04\n",
            "Epoch 94/100\n",
            "38/38 [==============================] - 4s 103ms/step - loss: 1.3332e-04\n",
            "Epoch 95/100\n",
            "38/38 [==============================] - 4s 103ms/step - loss: 1.3591e-04\n",
            "Epoch 96/100\n",
            "38/38 [==============================] - 4s 103ms/step - loss: 1.6373e-04\n",
            "Epoch 97/100\n",
            "38/38 [==============================] - 4s 103ms/step - loss: 1.3149e-04\n",
            "Epoch 98/100\n",
            "38/38 [==============================] - 4s 104ms/step - loss: 1.4444e-04\n",
            "Epoch 99/100\n",
            "38/38 [==============================] - 4s 104ms/step - loss: 1.4013e-04\n",
            "Epoch 100/100\n",
            "38/38 [==============================] - 4s 103ms/step - loss: 1.7075e-04\n"
          ],
          "name": "stdout"
        },
        {
          "output_type": "execute_result",
          "data": {
            "text/plain": [
              "<tensorflow.python.keras.callbacks.History at 0x7f5edcca8be0>"
            ]
          },
          "metadata": {
            "tags": []
          },
          "execution_count": 25
        }
      ]
    },
    {
      "cell_type": "markdown",
      "metadata": {
        "id": "LUkwWwT3XvMs"
      },
      "source": [
        "#Testing Data"
      ]
    },
    {
      "cell_type": "markdown",
      "metadata": {
        "id": "1iFvK8QxYA1k"
      },
      "source": [
        "###Mount Drive"
      ]
    },
    {
      "cell_type": "code",
      "metadata": {
        "id": "mukQrkMiMB4n",
        "colab": {
          "base_uri": "https://localhost:8080/",
          "height": 35
        },
        "outputId": "2da755bc-b3fa-4a62-9f34-8e6de9831391"
      },
      "source": [
        "from google.colab import drive\n",
        "drive.mount('/content/drive')"
      ],
      "execution_count": null,
      "outputs": [
        {
          "output_type": "stream",
          "text": [
            "Drive already mounted at /content/drive; to attempt to forcibly remount, call drive.mount(\"/content/drive\", force_remount=True).\n"
          ],
          "name": "stdout"
        }
      ]
    },
    {
      "cell_type": "markdown",
      "metadata": {
        "id": "d3xnIkb3YE8v"
      },
      "source": [
        "###Loading File"
      ]
    },
    {
      "cell_type": "code",
      "metadata": {
        "id": "WHFetLVLVGSc",
        "colab": {
          "base_uri": "https://localhost:8080/",
          "height": 219
        },
        "outputId": "2098b39e-094a-448b-ed9a-fffb0455b183"
      },
      "source": [
        "path = '/content/drive/My Drive/Edureka/Stock Market Price/Google_Stock_Price_Test.csv'\n",
        "\n",
        "data = pd.read_csv(path)\n",
        "print(data.shape)\n",
        "data.head()"
      ],
      "execution_count": null,
      "outputs": [
        {
          "output_type": "stream",
          "text": [
            "(20, 6)\n"
          ],
          "name": "stdout"
        },
        {
          "output_type": "execute_result",
          "data": {
            "text/html": [
              "<div>\n",
              "<style scoped>\n",
              "    .dataframe tbody tr th:only-of-type {\n",
              "        vertical-align: middle;\n",
              "    }\n",
              "\n",
              "    .dataframe tbody tr th {\n",
              "        vertical-align: top;\n",
              "    }\n",
              "\n",
              "    .dataframe thead th {\n",
              "        text-align: right;\n",
              "    }\n",
              "</style>\n",
              "<table border=\"1\" class=\"dataframe\">\n",
              "  <thead>\n",
              "    <tr style=\"text-align: right;\">\n",
              "      <th></th>\n",
              "      <th>Date</th>\n",
              "      <th>Open</th>\n",
              "      <th>High</th>\n",
              "      <th>Low</th>\n",
              "      <th>Close</th>\n",
              "      <th>Volume</th>\n",
              "    </tr>\n",
              "  </thead>\n",
              "  <tbody>\n",
              "    <tr>\n",
              "      <th>0</th>\n",
              "      <td>1/3/2017</td>\n",
              "      <td>778.81</td>\n",
              "      <td>789.63</td>\n",
              "      <td>775.80</td>\n",
              "      <td>786.14</td>\n",
              "      <td>1,657,300</td>\n",
              "    </tr>\n",
              "    <tr>\n",
              "      <th>1</th>\n",
              "      <td>1/4/2017</td>\n",
              "      <td>788.36</td>\n",
              "      <td>791.34</td>\n",
              "      <td>783.16</td>\n",
              "      <td>786.90</td>\n",
              "      <td>1,073,000</td>\n",
              "    </tr>\n",
              "    <tr>\n",
              "      <th>2</th>\n",
              "      <td>1/5/2017</td>\n",
              "      <td>786.08</td>\n",
              "      <td>794.48</td>\n",
              "      <td>785.02</td>\n",
              "      <td>794.02</td>\n",
              "      <td>1,335,200</td>\n",
              "    </tr>\n",
              "    <tr>\n",
              "      <th>3</th>\n",
              "      <td>1/6/2017</td>\n",
              "      <td>795.26</td>\n",
              "      <td>807.90</td>\n",
              "      <td>792.20</td>\n",
              "      <td>806.15</td>\n",
              "      <td>1,640,200</td>\n",
              "    </tr>\n",
              "    <tr>\n",
              "      <th>4</th>\n",
              "      <td>1/9/2017</td>\n",
              "      <td>806.40</td>\n",
              "      <td>809.97</td>\n",
              "      <td>802.83</td>\n",
              "      <td>806.65</td>\n",
              "      <td>1,272,400</td>\n",
              "    </tr>\n",
              "  </tbody>\n",
              "</table>\n",
              "</div>"
            ],
            "text/plain": [
              "       Date    Open    High     Low   Close     Volume\n",
              "0  1/3/2017  778.81  789.63  775.80  786.14  1,657,300\n",
              "1  1/4/2017  788.36  791.34  783.16  786.90  1,073,000\n",
              "2  1/5/2017  786.08  794.48  785.02  794.02  1,335,200\n",
              "3  1/6/2017  795.26  807.90  792.20  806.15  1,640,200\n",
              "4  1/9/2017  806.40  809.97  802.83  806.65  1,272,400"
            ]
          },
          "metadata": {
            "tags": []
          },
          "execution_count": 35
        }
      ]
    },
    {
      "cell_type": "markdown",
      "metadata": {
        "id": "BVMxqMjXYIP3"
      },
      "source": [
        "###Real Stock Price"
      ]
    },
    {
      "cell_type": "code",
      "metadata": {
        "id": "6Jyh2itFLYtv"
      },
      "source": [
        "real_stock_price = data.iloc[:, 1:2].values"
      ],
      "execution_count": null,
      "outputs": []
    },
    {
      "cell_type": "markdown",
      "metadata": {
        "id": "bp64zldsYMKq"
      },
      "source": [
        "###Data Details"
      ]
    },
    {
      "cell_type": "code",
      "metadata": {
        "id": "v_2RzrhFX7PQ",
        "colab": {
          "base_uri": "https://localhost:8080/",
          "height": 294
        },
        "outputId": "e6a1ac75-399d-4179-db27-61f87d6cdc0d"
      },
      "source": [
        "data.describe()"
      ],
      "execution_count": null,
      "outputs": [
        {
          "output_type": "execute_result",
          "data": {
            "text/html": [
              "<div>\n",
              "<style scoped>\n",
              "    .dataframe tbody tr th:only-of-type {\n",
              "        vertical-align: middle;\n",
              "    }\n",
              "\n",
              "    .dataframe tbody tr th {\n",
              "        vertical-align: top;\n",
              "    }\n",
              "\n",
              "    .dataframe thead th {\n",
              "        text-align: right;\n",
              "    }\n",
              "</style>\n",
              "<table border=\"1\" class=\"dataframe\">\n",
              "  <thead>\n",
              "    <tr style=\"text-align: right;\">\n",
              "      <th></th>\n",
              "      <th>Open</th>\n",
              "      <th>High</th>\n",
              "      <th>Low</th>\n",
              "      <th>Close</th>\n",
              "    </tr>\n",
              "  </thead>\n",
              "  <tbody>\n",
              "    <tr>\n",
              "      <th>count</th>\n",
              "      <td>20.000000</td>\n",
              "      <td>20.000000</td>\n",
              "      <td>20.000000</td>\n",
              "      <td>20.000000</td>\n",
              "    </tr>\n",
              "    <tr>\n",
              "      <th>mean</th>\n",
              "      <td>807.526000</td>\n",
              "      <td>811.926500</td>\n",
              "      <td>801.949500</td>\n",
              "      <td>807.904500</td>\n",
              "    </tr>\n",
              "    <tr>\n",
              "      <th>std</th>\n",
              "      <td>15.125428</td>\n",
              "      <td>14.381198</td>\n",
              "      <td>13.278607</td>\n",
              "      <td>13.210088</td>\n",
              "    </tr>\n",
              "    <tr>\n",
              "      <th>min</th>\n",
              "      <td>778.810000</td>\n",
              "      <td>789.630000</td>\n",
              "      <td>775.800000</td>\n",
              "      <td>786.140000</td>\n",
              "    </tr>\n",
              "    <tr>\n",
              "      <th>25%</th>\n",
              "      <td>802.965000</td>\n",
              "      <td>806.735000</td>\n",
              "      <td>797.427500</td>\n",
              "      <td>802.282500</td>\n",
              "    </tr>\n",
              "    <tr>\n",
              "      <th>50%</th>\n",
              "      <td>806.995000</td>\n",
              "      <td>808.640000</td>\n",
              "      <td>801.530000</td>\n",
              "      <td>806.110000</td>\n",
              "    </tr>\n",
              "    <tr>\n",
              "      <th>75%</th>\n",
              "      <td>809.560000</td>\n",
              "      <td>817.097500</td>\n",
              "      <td>804.477500</td>\n",
              "      <td>810.760000</td>\n",
              "    </tr>\n",
              "    <tr>\n",
              "      <th>max</th>\n",
              "      <td>837.810000</td>\n",
              "      <td>841.950000</td>\n",
              "      <td>827.010000</td>\n",
              "      <td>835.670000</td>\n",
              "    </tr>\n",
              "  </tbody>\n",
              "</table>\n",
              "</div>"
            ],
            "text/plain": [
              "             Open        High         Low       Close\n",
              "count   20.000000   20.000000   20.000000   20.000000\n",
              "mean   807.526000  811.926500  801.949500  807.904500\n",
              "std     15.125428   14.381198   13.278607   13.210088\n",
              "min    778.810000  789.630000  775.800000  786.140000\n",
              "25%    802.965000  806.735000  797.427500  802.282500\n",
              "50%    806.995000  808.640000  801.530000  806.110000\n",
              "75%    809.560000  817.097500  804.477500  810.760000\n",
              "max    837.810000  841.950000  827.010000  835.670000"
            ]
          },
          "metadata": {
            "tags": []
          },
          "execution_count": 37
        }
      ]
    },
    {
      "cell_type": "code",
      "metadata": {
        "id": "erjRlpM3J9N7",
        "colab": {
          "base_uri": "https://localhost:8080/",
          "height": 243
        },
        "outputId": "753bc9d4-50fc-4411-e41e-5c4a9cc2fca9"
      },
      "source": [
        "data.info()"
      ],
      "execution_count": null,
      "outputs": [
        {
          "output_type": "stream",
          "text": [
            "<class 'pandas.core.frame.DataFrame'>\n",
            "RangeIndex: 20 entries, 0 to 19\n",
            "Data columns (total 6 columns):\n",
            " #   Column  Non-Null Count  Dtype  \n",
            "---  ------  --------------  -----  \n",
            " 0   Date    20 non-null     object \n",
            " 1   Open    20 non-null     float64\n",
            " 2   High    20 non-null     float64\n",
            " 3   Low     20 non-null     float64\n",
            " 4   Close   20 non-null     float64\n",
            " 5   Volume  20 non-null     object \n",
            "dtypes: float64(4), object(2)\n",
            "memory usage: 1.1+ KB\n"
          ],
          "name": "stdout"
        }
      ]
    },
    {
      "cell_type": "markdown",
      "metadata": {
        "id": "fshoQu9XYhu0"
      },
      "source": [
        "###Data Pre-processing"
      ]
    },
    {
      "cell_type": "code",
      "metadata": {
        "id": "QlSs1DhXQUUK",
        "colab": {
          "base_uri": "https://localhost:8080/",
          "height": 243
        },
        "outputId": "9fe4930a-5c43-4863-d86d-12809dfcadcc"
      },
      "source": [
        "data['Volume'] = data['Volume'].str.replace(',', '').astype(float)\n",
        "data.info()"
      ],
      "execution_count": null,
      "outputs": [
        {
          "output_type": "stream",
          "text": [
            "<class 'pandas.core.frame.DataFrame'>\n",
            "RangeIndex: 20 entries, 0 to 19\n",
            "Data columns (total 6 columns):\n",
            " #   Column  Non-Null Count  Dtype  \n",
            "---  ------  --------------  -----  \n",
            " 0   Date    20 non-null     object \n",
            " 1   Open    20 non-null     float64\n",
            " 2   High    20 non-null     float64\n",
            " 3   Low     20 non-null     float64\n",
            " 4   Close   20 non-null     float64\n",
            " 5   Volume  20 non-null     float64\n",
            "dtypes: float64(5), object(1)\n",
            "memory usage: 1.1+ KB\n"
          ],
          "name": "stdout"
        }
      ]
    },
    {
      "cell_type": "markdown",
      "metadata": {
        "id": "rAPiQy4iYo53"
      },
      "source": [
        "###Building Testing Data"
      ]
    },
    {
      "cell_type": "code",
      "metadata": {
        "id": "qIX1GSxMJ9S_",
        "colab": {
          "base_uri": "https://localhost:8080/",
          "height": 219
        },
        "outputId": "2ecb373d-f083-4df4-c5ad-7f60b37185ee"
      },
      "source": [
        "test = pd.DataFrame(data['Open'])\n",
        "print(test.shape)\n",
        "test.head()"
      ],
      "execution_count": null,
      "outputs": [
        {
          "output_type": "stream",
          "text": [
            "(20, 1)\n"
          ],
          "name": "stdout"
        },
        {
          "output_type": "execute_result",
          "data": {
            "text/html": [
              "<div>\n",
              "<style scoped>\n",
              "    .dataframe tbody tr th:only-of-type {\n",
              "        vertical-align: middle;\n",
              "    }\n",
              "\n",
              "    .dataframe tbody tr th {\n",
              "        vertical-align: top;\n",
              "    }\n",
              "\n",
              "    .dataframe thead th {\n",
              "        text-align: right;\n",
              "    }\n",
              "</style>\n",
              "<table border=\"1\" class=\"dataframe\">\n",
              "  <thead>\n",
              "    <tr style=\"text-align: right;\">\n",
              "      <th></th>\n",
              "      <th>Open</th>\n",
              "    </tr>\n",
              "  </thead>\n",
              "  <tbody>\n",
              "    <tr>\n",
              "      <th>0</th>\n",
              "      <td>778.81</td>\n",
              "    </tr>\n",
              "    <tr>\n",
              "      <th>1</th>\n",
              "      <td>788.36</td>\n",
              "    </tr>\n",
              "    <tr>\n",
              "      <th>2</th>\n",
              "      <td>786.08</td>\n",
              "    </tr>\n",
              "    <tr>\n",
              "      <th>3</th>\n",
              "      <td>795.26</td>\n",
              "    </tr>\n",
              "    <tr>\n",
              "      <th>4</th>\n",
              "      <td>806.40</td>\n",
              "    </tr>\n",
              "  </tbody>\n",
              "</table>\n",
              "</div>"
            ],
            "text/plain": [
              "     Open\n",
              "0  778.81\n",
              "1  788.36\n",
              "2  786.08\n",
              "3  795.26\n",
              "4  806.40"
            ]
          },
          "metadata": {
            "tags": []
          },
          "execution_count": 40
        }
      ]
    },
    {
      "cell_type": "code",
      "metadata": {
        "id": "hiC19wgqJ9XE"
      },
      "source": [
        "from sklearn.preprocessing import StandardScaler \n",
        "\n",
        "sc = StandardScaler()\n",
        "\n",
        "total = pd.concat((train['Open'], test['Open']), axis = 0)\n",
        "inputs = total[len(total) - len(data) - 60:].values\n",
        "inputs = inputs.reshape(-1, 1)\n",
        "inputs = sc.fit_transform(inputs)\n",
        "\n",
        "X_test = []\n",
        "for i in range(60, 80):\n",
        "  X_test.append(inputs[i-60:i, 0])\n",
        "\n",
        "X_test = np.array(X_test)\n",
        "X_test = np.reshape(X_test, (X_test.shape[0], X_test.shape[1], 1))\n",
        "predicted_stock_price = regressor.predict(X_test)\n",
        "predicted_stock_price = sc.inverse_transform(predicted_stock_price)"
      ],
      "execution_count": null,
      "outputs": []
    },
    {
      "cell_type": "markdown",
      "metadata": {
        "id": "CNTsG4-1Y2n9"
      },
      "source": [
        "###Predicting"
      ]
    },
    {
      "cell_type": "code",
      "metadata": {
        "id": "OwgAO9nlP9uL",
        "colab": {
          "base_uri": "https://localhost:8080/",
          "height": 156
        },
        "outputId": "9626685c-f065-45e5-c8fa-34bc666d0657"
      },
      "source": [
        "predicted_stock_price = pd.DataFrame(predicted_stock_price)\n",
        "predicted_stock_price.info()"
      ],
      "execution_count": null,
      "outputs": [
        {
          "output_type": "stream",
          "text": [
            "<class 'pandas.core.frame.DataFrame'>\n",
            "RangeIndex: 20 entries, 0 to 19\n",
            "Data columns (total 1 columns):\n",
            " #   Column  Non-Null Count  Dtype  \n",
            "---  ------  --------------  -----  \n",
            " 0   0       20 non-null     float32\n",
            "dtypes: float32(1)\n",
            "memory usage: 208.0 bytes\n"
          ],
          "name": "stdout"
        }
      ]
    },
    {
      "cell_type": "markdown",
      "metadata": {
        "id": "WOqOpuPsY5UW"
      },
      "source": [
        "#Plotting"
      ]
    },
    {
      "cell_type": "code",
      "metadata": {
        "id": "z_OMQz1xJ9RL",
        "colab": {
          "base_uri": "https://localhost:8080/",
          "height": 325
        },
        "outputId": "57b1b5b3-4583-46f9-a984-83b308750502"
      },
      "source": [
        "plt.plot('real_stock_price', color = 'red', label = 'Real Google Stock Price')\n",
        "plt.plot('predicted_stock_price', color = 'blue', label = 'Predicted Google Stock Price')\n",
        "plt.title('Google Stock Price Prediction')\n",
        "plt.xlabel('Time')\n",
        "plt.ylabel('Google Stock Price')\n",
        "plt.legend()\n",
        "plt.show()"
      ],
      "execution_count": null,
      "outputs": [
        {
          "output_type": "display_data",
          "data": {
            "image/png": "[encoded data removed]",
            "text/plain": [
              "<Figure size 432x288 with 1 Axes>"
            ]
          },
          "metadata": {
            "tags": []
          }
        }
      ]
    },
    {
      "cell_type": "code",
      "metadata": {
        "id": "RUUkImURSMp1",
        "colab": {
          "base_uri": "https://localhost:8080/",
          "height": 282
        },
        "outputId": "5235a6f9-52e8-4487-9b18-83e69a787b7c"
      },
      "source": [
        "plt.plot(real_stock_price)\n",
        "plt.plot(predicted_stock_price)\n",
        "plt.show()"
      ],
      "execution_count": null,
      "outputs": [
        {
          "output_type": "display_data",
          "data": {
            "image/png": "[encoded data removed]",
            "text/plain": [
              "<Figure size 432x288 with 1 Axes>"
            ]
          },
          "metadata": {
            "tags": []
          }
        }
      ]
    },
    {
      "cell_type": "code",
      "metadata": {
        "id": "F-daGG2FSQIq"
      },
      "source": [
        ""
      ],
      "execution_count": null,
      "outputs": []
    }
  ]
}